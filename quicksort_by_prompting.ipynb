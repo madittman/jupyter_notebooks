{
 "cells": [
  {
   "cell_type": "code",
   "execution_count": 2,
   "id": "d296fff7-c730-432b-8169-0e512f09f02b",
   "metadata": {},
   "outputs": [
    {
     "name": "stdout",
     "output_type": "stream",
     "text": [
      "3.10.12 (main, May 27 2025, 17:12:29) [GCC 11.4.0]\n"
     ]
    }
   ],
   "source": [
    "import sys\n",
    "print(sys.version)"
   ]
  },
  {
   "cell_type": "code",
   "execution_count": 9,
   "id": "036684c3-b4b8-47dd-aab3-5e725978e02f",
   "metadata": {},
   "outputs": [],
   "source": [
    "def ask_for_greater_one(a, b):\n",
    "    if a == b:\n",
    "        return 2\n",
    "    print(\"Which is greater?\")\n",
    "    print(\"a: '{}'\".format(a))\n",
    "    print(\"b: '{}'\".format(b))\n",
    "    \n",
    "    greater_one = input(\"Answer: \")\n",
    "    while greater_one not in ('a', 'b'):\n",
    "        print(\"Invalid input! (Type in a or b)\")\n",
    "        greater_one = input(\"Answer: \")\n",
    "    print()\n",
    "    return greater_one"
   ]
  },
  {
   "cell_type": "code",
   "execution_count": 10,
   "id": "b32c7709-8b0f-41f8-96ed-50da17f140c2",
   "metadata": {},
   "outputs": [],
   "source": [
    "# function to find the partition position\n",
    "def partition(array, low, high):\n",
    "    \n",
    "    # choose the rightmost element as pivot\n",
    "    pivot = array[high]\n",
    "    # pointer for greater element\n",
    "    i = low - 1\n",
    "\n",
    "    # traverse through all elements\n",
    "    # compare each element with pivot\n",
    "    for j in range(low, high):\n",
    "        greater_one = ask_for_greater_one(array[j], pivot)\n",
    "        \n",
    "        #if array[j] <= pivot:\n",
    "        if not(greater_one == 'a'):\n",
    "            # if element smaller than pivot is found\n",
    "            # swap it with the greater element pointed by i\n",
    "            i += 1\n",
    "\n",
    "            # swapping element at i with element at j\n",
    "            (array[i], array[j]) = (array[j], array[i])\n",
    "\n",
    "    # swap the pivot element with the greater element specified by i\n",
    "    (array[i + 1], array[high]) = (array[high], array[i + 1])\n",
    "\n",
    "    # return the position from where partition is done\n",
    "    return i + 1"
   ]
  },
  {
   "cell_type": "code",
   "execution_count": 11,
   "id": "1b19ed90-b4b0-4b8d-a39e-8c906ee59697",
   "metadata": {},
   "outputs": [],
   "source": [
    "# function to perform quicksort\n",
    "def quickSort(array, low, high):\n",
    "    if low < high:\n",
    "\n",
    "        # find pivot element such that\n",
    "        # element smaller than pivot are on the left\n",
    "        # element greater than pivot are on the right\n",
    "        pivot = partition(array, low, high)\n",
    "    \n",
    "        # recursive call on the left of pivot\n",
    "        quickSort(array, low, pivot - 1)\n",
    "        \n",
    "        # recursive call on the right of pivot\n",
    "        quickSort(array, pivot + 1, high)"
   ]
  },
  {
   "cell_type": "code",
   "execution_count": 14,
   "id": "8616ff31-5c37-4aff-b0d9-d37b0b2e9036",
   "metadata": {},
   "outputs": [],
   "source": [
    "data = [\n",
    "    \"Gemini\",\n",
    "    \"AI Chat\",\n",
    "    \"DeepSeek\",\n",
    "    \"Le Chat\",\n",
    "    \"Grok\",\n",
    "]"
   ]
  },
  {
   "cell_type": "code",
   "execution_count": 15,
   "id": "51aed148-7b5a-496d-988f-037594cd54ea",
   "metadata": {},
   "outputs": [
    {
     "name": "stdout",
     "output_type": "stream",
     "text": [
      "Which is greater?\n",
      "a: 'Gemini'\n",
      "b: 'Grok'\n"
     ]
    },
    {
     "name": "stdin",
     "output_type": "stream",
     "text": [
      "Answer:  a\n"
     ]
    },
    {
     "name": "stdout",
     "output_type": "stream",
     "text": [
      "\n",
      "Which is greater?\n",
      "a: 'AI Chat'\n",
      "b: 'Grok'\n"
     ]
    },
    {
     "name": "stdin",
     "output_type": "stream",
     "text": [
      "Answer:  a\n"
     ]
    },
    {
     "name": "stdout",
     "output_type": "stream",
     "text": [
      "\n",
      "Which is greater?\n",
      "a: 'DeepSeek'\n",
      "b: 'Grok'\n"
     ]
    },
    {
     "name": "stdin",
     "output_type": "stream",
     "text": [
      "Answer:  a\n"
     ]
    },
    {
     "name": "stdout",
     "output_type": "stream",
     "text": [
      "\n",
      "Which is greater?\n",
      "a: 'Le Chat'\n",
      "b: 'Grok'\n"
     ]
    },
    {
     "name": "stdin",
     "output_type": "stream",
     "text": [
      "Answer:  a\n"
     ]
    },
    {
     "name": "stdout",
     "output_type": "stream",
     "text": [
      "\n",
      "Which is greater?\n",
      "a: 'AI Chat'\n",
      "b: 'Gemini'\n"
     ]
    },
    {
     "name": "stdin",
     "output_type": "stream",
     "text": [
      "Answer:  b\n"
     ]
    },
    {
     "name": "stdout",
     "output_type": "stream",
     "text": [
      "\n",
      "Which is greater?\n",
      "a: 'DeepSeek'\n",
      "b: 'Gemini'\n"
     ]
    },
    {
     "name": "stdin",
     "output_type": "stream",
     "text": [
      "Answer:  a\n"
     ]
    },
    {
     "name": "stdout",
     "output_type": "stream",
     "text": [
      "\n",
      "Which is greater?\n",
      "a: 'Le Chat'\n",
      "b: 'Gemini'\n"
     ]
    },
    {
     "name": "stdin",
     "output_type": "stream",
     "text": [
      "Answer:  a\n"
     ]
    },
    {
     "name": "stdout",
     "output_type": "stream",
     "text": [
      "\n",
      "Which is greater?\n",
      "a: 'Le Chat'\n",
      "b: 'DeepSeek'\n"
     ]
    },
    {
     "name": "stdin",
     "output_type": "stream",
     "text": [
      "Answer:  b\n"
     ]
    },
    {
     "name": "stdout",
     "output_type": "stream",
     "text": [
      "\n",
      "['Grok', 'AI Chat', 'Gemini', 'Le Chat', 'DeepSeek']\n"
     ]
    }
   ],
   "source": [
    "quickSort(data, 0, len(data) - 1)\n",
    "print(data)"
   ]
  },
  {
   "cell_type": "code",
   "execution_count": null,
   "id": "2f8bda85-ceee-4ceb-ace5-f52a8e4992d1",
   "metadata": {},
   "outputs": [],
   "source": []
  }
 ],
 "metadata": {
  "kernelspec": {
   "display_name": "Python 3 (ipykernel)",
   "language": "python",
   "name": "python3"
  },
  "language_info": {
   "codemirror_mode": {
    "name": "ipython",
    "version": 3
   },
   "file_extension": ".py",
   "mimetype": "text/x-python",
   "name": "python",
   "nbconvert_exporter": "python",
   "pygments_lexer": "ipython3",
   "version": "3.10.12"
  }
 },
 "nbformat": 4,
 "nbformat_minor": 5
}
