{
 "cells": [
  {
   "cell_type": "markdown",
   "metadata": {},
   "source": [
    "# Datensatz"
   ]
  },
  {
   "cell_type": "code",
   "execution_count": 4,
   "metadata": {},
   "outputs": [
    {
     "name": "stdout",
     "output_type": "stream",
     "text": [
      "3.13.5 (main, Jun 12 2025, 08:56:15) [GCC 11.4.0]\n"
     ]
    }
   ],
   "source": [
    "import sys\n",
    "print(sys.version)"
   ]
  },
  {
   "cell_type": "code",
   "execution_count": 5,
   "metadata": {
    "_cell_guid": "b1076dfc-b9ad-4769-8c92-a6c4dae69d19",
    "_uuid": "8f2839f25d086af736a60e9eeb907d3b93b6e0e5"
   },
   "outputs": [],
   "source": [
    "import pandas as pd\n",
    "\n",
    "\"\"\" Quellen für den Datensatz:\n",
    "https://api.worldbank.org/v2/en/indicator/NY.GDP.PCAP.CD?downloadformat=excel\n",
    "https://population.un.org/wpp/Download/Standard/MostUsed/\n",
    "https://hdr.undp.org/sites/default/files/2021-22_HDR/HDR21-22_Statistical_Annex_HDI_Table.xlsx\n",
    "\"\"\"\n",
    "df = pd.read_csv(\"all_data.csv\")"
   ]
  },
  {
   "cell_type": "code",
   "execution_count": 6,
   "metadata": {},
   "outputs": [
    {
     "data": {
      "text/plain": [
       "(236, 35)"
      ]
     },
     "execution_count": 6,
     "metadata": {},
     "output_type": "execute_result"
    }
   ],
   "source": [
    "# Dimension des Datensatzes\n",
    "df.shape"
   ]
  },
  {
   "cell_type": "code",
   "execution_count": 7,
   "metadata": {},
   "outputs": [
    {
     "data": {
      "text/plain": [
       "['Country',\n",
       " 'GDP per capita (current US$)',\n",
       " 'Human Development Index (HDI) ',\n",
       " 'Life expectancy at birth',\n",
       " 'Mean years of schooling',\n",
       " 'Total Population, as of 1 July (thousands)',\n",
       " 'Median Age, as of 1 July (years)',\n",
       " 'Natural Change, Births minus Deaths (thousands)',\n",
       " 'Rate of Natural Change (per 1,000 population)',\n",
       " 'Population Change (thousands)',\n",
       " 'Population Growth Rate (percentage)',\n",
       " 'Population Annual Doubling Time (years)',\n",
       " 'Births (thousands)',\n",
       " 'Births by women aged 15 to 19 (thousands)',\n",
       " 'Crude Birth Rate (births per 1,000 population)',\n",
       " 'Total Fertility Rate (live births per woman)',\n",
       " 'Net Reproduction Rate (surviving daughters per woman)',\n",
       " 'Sex Ratio at Birth (males per 100 female births)',\n",
       " 'Total Deaths (thousands)',\n",
       " 'Crude Death Rate (deaths per 1,000 population)',\n",
       " 'Life Expectancy at Birth, both sexes (years)',\n",
       " 'Life Expectancy at Age 15, both sexes (years)',\n",
       " 'Life Expectancy at Age 65, both sexes (years)',\n",
       " 'Life Expectancy at Age 80, both sexes (years)',\n",
       " 'Infant Deaths, under age 1 (thousands)',\n",
       " 'Infant Mortality Rate (infant deaths per 1,000 live births)',\n",
       " 'Live Births Surviving to Age 1 (thousands)',\n",
       " 'Under-Five Deaths, under age 5 (thousands)',\n",
       " 'Under-Five Mortality (deaths under age 5 per 1,000 live births)',\n",
       " 'Mortality before Age 40, both sexes (deaths under age 40 per 1,000 live births)',\n",
       " 'Mortality before Age 60, both sexes (deaths under age 60 per 1,000 live births)',\n",
       " 'Mortality between Age 15 and 50, both sexes (deaths under age 50 per 1,000 alive at age 15)',\n",
       " 'Mortality between Age 15 and 60, both sexes (deaths under age 60 per 1,000 alive at age 15)',\n",
       " 'Net Number of Migrants (thousands)',\n",
       " 'Net Migration Rate (per 1,000 population)']"
      ]
     },
     "execution_count": 7,
     "metadata": {},
     "output_type": "execute_result"
    }
   ],
   "source": [
    "# Übersicht der Variablen\n",
    "list(df)"
   ]
  },
  {
   "cell_type": "code",
   "execution_count": 8,
   "metadata": {},
   "outputs": [],
   "source": [
    "# Überflüssige Leerzeichen aus den Namen der Variablen löschen\n",
    "\n",
    "df.rename(columns={\n",
    "    'Country': 'country',\n",
    "    'Total Population, as of 1 July (thousands)': 'population',\n",
    "    'GDP per capita (current US$)': 'gdp_per_capita',\n",
    "    'Net Migration Rate (per 1,000 population)': 'net_migration_rate',\n",
    "    'Human Development Index (HDI) ': 'hdi',\n",
    "    'Life expectancy at birth': 'life_expectancy',\n",
    "    'Infant Mortality Rate (infant deaths per 1,000 live births)': 'infant_mortality_rate',\n",
    "    'Mean years of schooling': 'mean_years_of_schooling',\n",
    "    'Median Age, as of 1 July (years)': 'median_age',\n",
    "}, inplace=True)"
   ]
  },
  {
   "cell_type": "code",
   "execution_count": 9,
   "metadata": {},
   "outputs": [],
   "source": [
    "# Länder löschen, für die 'gdp_per_capita' fehlt.\n",
    "df.dropna(subset=['gdp_per_capita'], inplace=True)\n",
    "\n",
    "# Nicht relevante Spalten löschen\n",
    "df = df[['country',\n",
    "         'gdp_per_capita',\n",
    "         'net_migration_rate',\n",
    "         'hdi',\n",
    "         'life_expectancy',\n",
    "         'infant_mortality_rate',\n",
    "         'mean_years_of_schooling',\n",
    "         'median_age',\n",
    "        ]]"
   ]
  },
  {
   "cell_type": "code",
   "execution_count": 10,
   "metadata": {},
   "outputs": [
    {
     "data": {
      "text/html": [
       "<div>\n",
       "<style scoped>\n",
       "    .dataframe tbody tr th:only-of-type {\n",
       "        vertical-align: middle;\n",
       "    }\n",
       "\n",
       "    .dataframe tbody tr th {\n",
       "        vertical-align: top;\n",
       "    }\n",
       "\n",
       "    .dataframe thead th {\n",
       "        text-align: right;\n",
       "    }\n",
       "</style>\n",
       "<table border=\"1\" class=\"dataframe\">\n",
       "  <thead>\n",
       "    <tr style=\"text-align: right;\">\n",
       "      <th></th>\n",
       "      <th>gdp_per_capita</th>\n",
       "      <th>net_migration_rate</th>\n",
       "      <th>hdi</th>\n",
       "      <th>life_expectancy</th>\n",
       "      <th>infant_mortality_rate</th>\n",
       "      <th>mean_years_of_schooling</th>\n",
       "      <th>median_age</th>\n",
       "    </tr>\n",
       "  </thead>\n",
       "  <tbody>\n",
       "    <tr>\n",
       "      <th>count</th>\n",
       "      <td>207.000000</td>\n",
       "      <td>207.000000</td>\n",
       "      <td>187.000000</td>\n",
       "      <td>190.000000</td>\n",
       "      <td>207.000000</td>\n",
       "      <td>187.000000</td>\n",
       "      <td>207.000000</td>\n",
       "    </tr>\n",
       "    <tr>\n",
       "      <th>mean</th>\n",
       "      <td>19807.130000</td>\n",
       "      <td>-0.567536</td>\n",
       "      <td>0.724920</td>\n",
       "      <td>71.368526</td>\n",
       "      <td>18.192754</td>\n",
       "      <td>9.009786</td>\n",
       "      <td>30.258792</td>\n",
       "    </tr>\n",
       "    <tr>\n",
       "      <th>std</th>\n",
       "      <td>30588.816018</td>\n",
       "      <td>6.063584</td>\n",
       "      <td>0.149474</td>\n",
       "      <td>7.747108</td>\n",
       "      <td>17.540949</td>\n",
       "      <td>3.179668</td>\n",
       "      <td>9.396390</td>\n",
       "    </tr>\n",
       "    <tr>\n",
       "      <th>min</th>\n",
       "      <td>221.160000</td>\n",
       "      <td>-44.230000</td>\n",
       "      <td>0.390000</td>\n",
       "      <td>52.530000</td>\n",
       "      <td>0.840000</td>\n",
       "      <td>2.110000</td>\n",
       "      <td>14.460000</td>\n",
       "    </tr>\n",
       "    <tr>\n",
       "      <th>25%</th>\n",
       "      <td>2538.045000</td>\n",
       "      <td>-1.385000</td>\n",
       "      <td>0.605000</td>\n",
       "      <td>65.670000</td>\n",
       "      <td>5.045000</td>\n",
       "      <td>6.330000</td>\n",
       "      <td>21.690000</td>\n",
       "    </tr>\n",
       "    <tr>\n",
       "      <th>50%</th>\n",
       "      <td>7230.200000</td>\n",
       "      <td>-0.300000</td>\n",
       "      <td>0.750000</td>\n",
       "      <td>71.745000</td>\n",
       "      <td>11.530000</td>\n",
       "      <td>9.310000</td>\n",
       "      <td>29.900000</td>\n",
       "    </tr>\n",
       "    <tr>\n",
       "      <th>75%</th>\n",
       "      <td>25741.840000</td>\n",
       "      <td>1.240000</td>\n",
       "      <td>0.840000</td>\n",
       "      <td>77.000000</td>\n",
       "      <td>26.965000</td>\n",
       "      <td>11.595000</td>\n",
       "      <td>38.230000</td>\n",
       "    </tr>\n",
       "    <tr>\n",
       "      <th>max</th>\n",
       "      <td>235132.780000</td>\n",
       "      <td>19.960000</td>\n",
       "      <td>0.960000</td>\n",
       "      <td>85.950000</td>\n",
       "      <td>73.040000</td>\n",
       "      <td>14.090000</td>\n",
       "      <td>54.520000</td>\n",
       "    </tr>\n",
       "  </tbody>\n",
       "</table>\n",
       "</div>"
      ],
      "text/plain": [
       "       gdp_per_capita  net_migration_rate         hdi  life_expectancy  \\\n",
       "count      207.000000          207.000000  187.000000       190.000000   \n",
       "mean     19807.130000           -0.567536    0.724920        71.368526   \n",
       "std      30588.816018            6.063584    0.149474         7.747108   \n",
       "min        221.160000          -44.230000    0.390000        52.530000   \n",
       "25%       2538.045000           -1.385000    0.605000        65.670000   \n",
       "50%       7230.200000           -0.300000    0.750000        71.745000   \n",
       "75%      25741.840000            1.240000    0.840000        77.000000   \n",
       "max     235132.780000           19.960000    0.960000        85.950000   \n",
       "\n",
       "       infant_mortality_rate  mean_years_of_schooling  median_age  \n",
       "count             207.000000               187.000000  207.000000  \n",
       "mean               18.192754                 9.009786   30.258792  \n",
       "std                17.540949                 3.179668    9.396390  \n",
       "min                 0.840000                 2.110000   14.460000  \n",
       "25%                 5.045000                 6.330000   21.690000  \n",
       "50%                11.530000                 9.310000   29.900000  \n",
       "75%                26.965000                11.595000   38.230000  \n",
       "max                73.040000                14.090000   54.520000  "
      ]
     },
     "execution_count": 10,
     "metadata": {},
     "output_type": "execute_result"
    }
   ],
   "source": [
    "# Deskriptive Statistiken\n",
    "df.describe()"
   ]
  },
  {
   "cell_type": "code",
   "execution_count": 11,
   "metadata": {},
   "outputs": [
    {
     "data": {
      "text/html": [
       "<div>\n",
       "<style scoped>\n",
       "    .dataframe tbody tr th:only-of-type {\n",
       "        vertical-align: middle;\n",
       "    }\n",
       "\n",
       "    .dataframe tbody tr th {\n",
       "        vertical-align: top;\n",
       "    }\n",
       "\n",
       "    .dataframe thead th {\n",
       "        text-align: right;\n",
       "    }\n",
       "</style>\n",
       "<table border=\"1\" class=\"dataframe\">\n",
       "  <thead>\n",
       "    <tr style=\"text-align: right;\">\n",
       "      <th></th>\n",
       "      <th>gdp_per_capita</th>\n",
       "      <th>net_migration_rate</th>\n",
       "      <th>hdi</th>\n",
       "      <th>life_expectancy</th>\n",
       "      <th>infant_mortality_rate</th>\n",
       "      <th>mean_years_of_schooling</th>\n",
       "      <th>median_age</th>\n",
       "    </tr>\n",
       "  </thead>\n",
       "  <tbody>\n",
       "    <tr>\n",
       "      <th>gdp_per_capita</th>\n",
       "      <td>1.000000</td>\n",
       "      <td>0.265088</td>\n",
       "      <td>0.669115</td>\n",
       "      <td>0.619815</td>\n",
       "      <td>-0.443729</td>\n",
       "      <td>0.561263</td>\n",
       "      <td>0.602883</td>\n",
       "    </tr>\n",
       "    <tr>\n",
       "      <th>net_migration_rate</th>\n",
       "      <td>0.265088</td>\n",
       "      <td>1.000000</td>\n",
       "      <td>0.251477</td>\n",
       "      <td>0.292702</td>\n",
       "      <td>-0.110859</td>\n",
       "      <td>0.134081</td>\n",
       "      <td>0.209755</td>\n",
       "    </tr>\n",
       "    <tr>\n",
       "      <th>hdi</th>\n",
       "      <td>0.669115</td>\n",
       "      <td>0.251477</td>\n",
       "      <td>1.000000</td>\n",
       "      <td>0.905561</td>\n",
       "      <td>-0.869145</td>\n",
       "      <td>0.911875</td>\n",
       "      <td>0.895930</td>\n",
       "    </tr>\n",
       "    <tr>\n",
       "      <th>life_expectancy</th>\n",
       "      <td>0.619815</td>\n",
       "      <td>0.292702</td>\n",
       "      <td>0.905561</td>\n",
       "      <td>1.000000</td>\n",
       "      <td>-0.880485</td>\n",
       "      <td>0.734668</td>\n",
       "      <td>0.842462</td>\n",
       "    </tr>\n",
       "    <tr>\n",
       "      <th>infant_mortality_rate</th>\n",
       "      <td>-0.443729</td>\n",
       "      <td>-0.110859</td>\n",
       "      <td>-0.869145</td>\n",
       "      <td>-0.880485</td>\n",
       "      <td>1.000000</td>\n",
       "      <td>-0.780877</td>\n",
       "      <td>-0.797443</td>\n",
       "    </tr>\n",
       "    <tr>\n",
       "      <th>mean_years_of_schooling</th>\n",
       "      <td>0.561263</td>\n",
       "      <td>0.134081</td>\n",
       "      <td>0.911875</td>\n",
       "      <td>0.734668</td>\n",
       "      <td>-0.780877</td>\n",
       "      <td>1.000000</td>\n",
       "      <td>0.805805</td>\n",
       "    </tr>\n",
       "    <tr>\n",
       "      <th>median_age</th>\n",
       "      <td>0.602883</td>\n",
       "      <td>0.209755</td>\n",
       "      <td>0.895930</td>\n",
       "      <td>0.842462</td>\n",
       "      <td>-0.797443</td>\n",
       "      <td>0.805805</td>\n",
       "      <td>1.000000</td>\n",
       "    </tr>\n",
       "  </tbody>\n",
       "</table>\n",
       "</div>"
      ],
      "text/plain": [
       "                         gdp_per_capita  net_migration_rate       hdi  \\\n",
       "gdp_per_capita                 1.000000            0.265088  0.669115   \n",
       "net_migration_rate             0.265088            1.000000  0.251477   \n",
       "hdi                            0.669115            0.251477  1.000000   \n",
       "life_expectancy                0.619815            0.292702  0.905561   \n",
       "infant_mortality_rate         -0.443729           -0.110859 -0.869145   \n",
       "mean_years_of_schooling        0.561263            0.134081  0.911875   \n",
       "median_age                     0.602883            0.209755  0.895930   \n",
       "\n",
       "                         life_expectancy  infant_mortality_rate  \\\n",
       "gdp_per_capita                  0.619815              -0.443729   \n",
       "net_migration_rate              0.292702              -0.110859   \n",
       "hdi                             0.905561              -0.869145   \n",
       "life_expectancy                 1.000000              -0.880485   \n",
       "infant_mortality_rate          -0.880485               1.000000   \n",
       "mean_years_of_schooling         0.734668              -0.780877   \n",
       "median_age                      0.842462              -0.797443   \n",
       "\n",
       "                         mean_years_of_schooling  median_age  \n",
       "gdp_per_capita                          0.561263    0.602883  \n",
       "net_migration_rate                      0.134081    0.209755  \n",
       "hdi                                     0.911875    0.895930  \n",
       "life_expectancy                         0.734668    0.842462  \n",
       "infant_mortality_rate                  -0.780877   -0.797443  \n",
       "mean_years_of_schooling                 1.000000    0.805805  \n",
       "median_age                              0.805805    1.000000  "
      ]
     },
     "execution_count": 11,
     "metadata": {},
     "output_type": "execute_result"
    }
   ],
   "source": [
    "# Korrelationsmatrix aller unabhängigen Variablen\n",
    "df_tmp = df.drop(columns='country')\n",
    "df_tmp.corr()"
   ]
  },
  {
   "cell_type": "code",
   "execution_count": 12,
   "metadata": {},
   "outputs": [
    {
     "name": "stdout",
     "output_type": "stream",
     "text": [
      "                  VARIABLE         VIF\n",
      "0           gdp_per_capita    2.351307\n",
      "1                      hdi  610.616369\n",
      "2          life_expectancy  299.609581\n",
      "3    infant_mortality_rate    4.086240\n",
      "4  mean_years_of_schooling   73.244939\n",
      "5               median_age   58.408664\n"
     ]
    }
   ],
   "source": [
    "from statsmodels.stats.outliers_influence import variance_inflation_factor\n",
    "\n",
    "# Lösche temporär alle Länder ohne HDI\n",
    "df_tmp = df.dropna(subset=['hdi'])\n",
    "\n",
    "# Alle unabhängigen Variablen in X\n",
    "X = df_tmp[['gdp_per_capita',\n",
    "        'hdi',\n",
    "        'life_expectancy',\n",
    "        'infant_mortality_rate',\n",
    "        'mean_years_of_schooling',\n",
    "        'median_age',\n",
    "        ]]\n",
    "\n",
    "# Erstelle VIF Dataframe\n",
    "vif_data = pd.DataFrame()\n",
    "vif_data['VARIABLE'] = X.columns\n",
    "\n",
    "# Errechne VIF für jede unabhängige Variable\n",
    "vif_data['VIF'] = [variance_inflation_factor(X.values, i)\n",
    "              for i in range(X.shape[1])]\n",
    "print(vif_data)"
   ]
  },
  {
   "cell_type": "code",
   "execution_count": 13,
   "metadata": {},
   "outputs": [],
   "source": [
    "# Teile Net Migration Rate in \"negative\", \"positive\" und \"zero\"\n",
    "\n",
    "df['net_migration_rate signed'] = ''\n",
    "df.loc[df.net_migration_rate < 0, 'net_migration_rate signed'] = \"negative\"\n",
    "df.loc[df.net_migration_rate == 0, 'net_migration_rate signed'] = \"zero\"\n",
    "df.loc[df.net_migration_rate > 0, 'net_migration_rate signed'] = \"positive\""
   ]
  },
  {
   "cell_type": "code",
   "execution_count": 14,
   "metadata": {},
   "outputs": [
    {
     "data": {
      "text/plain": [
       "<Axes: xlabel='net_migration_rate signed', ylabel='count'>"
      ]
     },
     "execution_count": 14,
     "metadata": {},
     "output_type": "execute_result"
    },
    {
     "data": {
      "image/png": "[encoded data removed]",
      "text/plain": [
       "<Figure size 640x480 with 1 Axes>"
      ]
     },
     "metadata": {},
     "output_type": "display_data"
    }
   ],
   "source": [
    "import seaborn as sns\n",
    "\n",
    "sns.countplot(data=df, x=\"net_migration_rate signed\")"
   ]
  },
  {
   "cell_type": "code",
   "execution_count": 15,
   "metadata": {},
   "outputs": [
    {
     "data": {
      "text/plain": [
       "<Axes: xlabel='gdp_per_capita', ylabel='net_migration_rate signed'>"
      ]
     },
     "execution_count": 15,
     "metadata": {},
     "output_type": "execute_result"
    },
    {
     "data": {
      "image/png": "[encoded data removed]",
      "text/plain": [
       "<Figure size 640x480 with 1 Axes>"
      ]
     },
     "metadata": {},
     "output_type": "display_data"
    }
   ],
   "source": [
    "sns.boxplot(data=df, x='gdp_per_capita', y='net_migration_rate signed', order=['positive', 'zero', 'negative'])"
   ]
  },
  {
   "cell_type": "code",
   "execution_count": 16,
   "metadata": {},
   "outputs": [
    {
     "data": {
      "text/plain": [
       "<Axes: xlabel='gdp_per_capita', ylabel='net_migration_rate'>"
      ]
     },
     "execution_count": 16,
     "metadata": {},
     "output_type": "execute_result"
    },
    {
     "data": {
      "image/png": "[encoded data removed]",
      "text/plain": [
       "<Figure size 640x480 with 1 Axes>"
      ]
     },
     "metadata": {},
     "output_type": "display_data"
    }
   ],
   "source": [
    "sns.scatterplot(data=df, x='gdp_per_capita', y='net_migration_rate')"
   ]
  },
  {
   "cell_type": "code",
   "execution_count": 17,
   "metadata": {},
   "outputs": [
    {
     "data": {
      "text/plain": [
       "<Axes: xlabel='gdp_per_capita', ylabel='net_migration_rate'>"
      ]
     },
     "execution_count": 17,
     "metadata": {},
     "output_type": "execute_result"
    },
    {
     "data": {
      "image/png": "[encoded data removed]",
      "text/plain": [
       "<Figure size 640x480 with 1 Axes>"
      ]
     },
     "metadata": {},
     "output_type": "display_data"
    }
   ],
   "source": [
    "sns.regplot(data=df, x='gdp_per_capita', y='net_migration_rate')"
   ]
  },
  {
   "cell_type": "markdown",
   "metadata": {},
   "source": [
    "### 1. Regression BIP/Kopf zu Migrationsrate"
   ]
  },
  {
   "cell_type": "code",
   "execution_count": 18,
   "metadata": {},
   "outputs": [
    {
     "name": "stdout",
     "output_type": "stream",
     "text": [
      "                            OLS Regression Results                            \n",
      "==============================================================================\n",
      "Dep. Variable:     net_migration_rate   R-squared:                       0.070\n",
      "Model:                            OLS   Adj. R-squared:                  0.066\n",
      "Method:                 Least Squares   F-statistic:                     15.49\n",
      "Date:                Sat, 19 Jul 2025   Prob (F-statistic):           0.000113\n",
      "Time:                        21:03:30   Log-Likelihood:                -658.75\n",
      "No. Observations:                 207   AIC:                             1322.\n",
      "Df Residuals:                     205   BIC:                             1328.\n",
      "Df Model:                           1                                         \n",
      "Covariance Type:            nonrobust                                         \n",
      "==================================================================================\n",
      "                     coef    std err          t      P>|t|      [0.025      0.975]\n",
      "----------------------------------------------------------------------------------\n",
      "Intercept         -1.6084      0.486     -3.312      0.001      -2.566      -0.651\n",
      "gdp_per_capita  5.255e-05   1.33e-05      3.936      0.000    2.62e-05    7.89e-05\n",
      "==============================================================================\n",
      "Omnibus:                      190.343   Durbin-Watson:                   2.232\n",
      "Prob(Omnibus):                  0.000   Jarque-Bera (JB):             4865.766\n",
      "Skew:                          -3.397   Prob(JB):                         0.00\n",
      "Kurtosis:                      25.759   Cond. No.                     4.34e+04\n",
      "==============================================================================\n",
      "\n",
      "Notes:\n",
      "[1] Standard Errors assume that the covariance matrix of the errors is correctly specified.\n",
      "[2] The condition number is large, 4.34e+04. This might indicate that there are\n",
      "strong multicollinearity or other numerical problems.\n"
     ]
    }
   ],
   "source": [
    "from statsmodels.formula.api import ols\n",
    "\n",
    "regression_model = 'net_migration_rate ~ gdp_per_capita'\n",
    "#regression = ols(regression_model, df).fit(cov_type='HC3')\n",
    "regression = ols(regression_model, df).fit()\n",
    "print(regression.summary())"
   ]
  },
  {
   "cell_type": "code",
   "execution_count": 19,
   "metadata": {},
   "outputs": [
    {
     "data": {
      "text/plain": [
       "np.float64(5.860898409856919)"
      ]
     },
     "execution_count": 19,
     "metadata": {},
     "output_type": "execute_result"
    }
   ],
   "source": [
    "# Berechnung des Standardfehlers\n",
    "import numpy as np\n",
    "\n",
    "np.sqrt(regression.scale)\n",
    "# Interpretation:\n",
    "# Unser Modell verschätzt sich bezüglich der Nettomigrationsrate um durchschnittlich 5,86"
   ]
  },
  {
   "cell_type": "code",
   "execution_count": 20,
   "metadata": {},
   "outputs": [
    {
     "data": {
      "text/plain": [
       "np.float64(-1032.6914971402641)"
      ]
     },
     "execution_count": 20,
     "metadata": {},
     "output_type": "execute_result"
    }
   ],
   "source": [
    "# Berechnung des Standardfehlers im Verhältnis zur durchschn. Net Migration Rate\n",
    "np.sqrt(regression.scale) / df[\"net_migration_rate\"].mean()*100\n",
    "\n",
    "# Interpretation:\n",
    "# Unser Modell verschätzt sich bezüglich der Net Migration Rate um durchschnittlich -1032,69%"
   ]
  },
  {
   "cell_type": "markdown",
   "metadata": {},
   "source": [
    "## 2. Regression BIP/Kopf-Quartile zu Migrationsrate"
   ]
  },
  {
   "cell_type": "code",
   "execution_count": 21,
   "metadata": {},
   "outputs": [],
   "source": [
    "# Erstellen einer ordinalskalierten Kategorie-Variable 'gdp_per_capita_Quartile'\n",
    "# Diese teilt die Beobachtungen in die vier Quartile der Variable 'gdp_per_capita' ein\n",
    "df['gdp_per_capita_Quartile'] = pd.qcut(x=df['gdp_per_capita'], q=4,\n",
    "                                 labels=[\"low\", \"medium\", \"high\", \"very_high\"])"
   ]
  },
  {
   "cell_type": "code",
   "execution_count": 22,
   "metadata": {},
   "outputs": [
    {
     "name": "stdout",
     "output_type": "stream",
     "text": [
      "                            OLS Regression Results                            \n",
      "==============================================================================\n",
      "Dep. Variable:     net_migration_rate   R-squared:                       0.096\n",
      "Model:                            OLS   Adj. R-squared:                  0.083\n",
      "Method:                 Least Squares   F-statistic:                     7.221\n",
      "Date:                Sat, 19 Jul 2025   Prob (F-statistic):           0.000125\n",
      "Time:                        21:03:30   Log-Likelihood:                -655.80\n",
      "No. Observations:                 207   AIC:                             1320.\n",
      "Df Residuals:                     203   BIC:                             1333.\n",
      "Df Model:                           3                                         \n",
      "Covariance Type:            nonrobust                                         \n",
      "=============================================================================================================\n",
      "                                                coef    std err          t      P>|t|      [0.025      0.975]\n",
      "-------------------------------------------------------------------------------------------------------------\n",
      "Intercept                                    -0.7725      0.805     -0.959      0.338      -2.360       0.815\n",
      "gdp_per_capita_Quartile_medium[T.True]       -1.9175      1.139     -1.684      0.094      -4.163       0.328\n",
      "gdp_per_capita_Quartile_high[T.True]         -0.4859      1.144     -0.425      0.672      -2.742       1.770\n",
      "gdp_per_capita_Quartile_very_high[T.True]     3.2100      1.139      2.819      0.005       0.965       5.455\n",
      "==============================================================================\n",
      "Omnibus:                      186.744   Durbin-Watson:                   2.293\n",
      "Prob(Omnibus):                  0.000   Jarque-Bera (JB):             4313.346\n",
      "Skew:                          -3.343   Prob(JB):                         0.00\n",
      "Kurtosis:                      24.340   Cond. No.                         4.78\n",
      "==============================================================================\n",
      "\n",
      "Notes:\n",
      "[1] Standard Errors assume that the covariance matrix of the errors is correctly specified.\n"
     ]
    }
   ],
   "source": [
    "# Erstellt für jede der vier Kategorien von 'gdp_per_capita_Quartile' eine eigene Dummyvariable.\n",
    "# Alle Dummyvariablen haben das Präfix 'gdp_per_capita_Quartile'.\n",
    "df_tmp = pd.get_dummies(df, columns=['gdp_per_capita_Quartile'], prefix='gdp_per_capita_Quartile',\n",
    "                             drop_first=True)  # Entferne die Referenzkategorie \"low\"\n",
    "\n",
    "regression_model = 'net_migration_rate ~ gdp_per_capita_Quartile_medium + gdp_per_capita_Quartile_high + gdp_per_capita_Quartile_very_high'\n",
    "regression = ols(regression_model, df_tmp).fit()\n",
    "print(regression.summary())"
   ]
  },
  {
   "cell_type": "code",
   "execution_count": 23,
   "metadata": {},
   "outputs": [
    {
     "data": {
      "text/plain": [
       "np.float64(5.80625602154547)"
      ]
     },
     "execution_count": 23,
     "metadata": {},
     "output_type": "execute_result"
    }
   ],
   "source": [
    "# Berechnung des Standardfehlers\n",
    "\n",
    "np.sqrt(regression.scale)\n",
    "# Interpretation:\n",
    "# Unser Modell verschätzt sich bezüglich der Nettomigrationsrate um durchschnittlich 5,81"
   ]
  },
  {
   "cell_type": "code",
   "execution_count": 24,
   "metadata": {},
   "outputs": [
    {
     "data": {
      "text/plain": [
       "np.float64(-1023.0634971568883)"
      ]
     },
     "execution_count": 24,
     "metadata": {},
     "output_type": "execute_result"
    }
   ],
   "source": [
    "# Berechnung des Standardfehlers im Verhältnis zur durchschn. Net Migration Rate\n",
    "np.sqrt(regression.scale) / df[\"net_migration_rate\"].mean()*100\n",
    "\n",
    "# Interpretation:\n",
    "# Unser Modell verschätzt sich bezüglich der Net Migration Rate um durchschnittlich -1023,06%"
   ]
  },
  {
   "cell_type": "markdown",
   "metadata": {},
   "source": [
    "## 3. Regression alle sechs Variablen zu Migrationsrate"
   ]
  },
  {
   "cell_type": "code",
   "execution_count": 25,
   "metadata": {},
   "outputs": [
    {
     "name": "stdout",
     "output_type": "stream",
     "text": [
      "                            OLS Regression Results                            \n",
      "==============================================================================\n",
      "Dep. Variable:     net_migration_rate   R-squared:                       0.150\n",
      "Model:                            OLS   Adj. R-squared:                  0.122\n",
      "Method:                 Least Squares   F-statistic:                     5.290\n",
      "Date:                Sat, 19 Jul 2025   Prob (F-statistic):           4.78e-05\n",
      "Time:                        21:03:30   Log-Likelihood:                -556.27\n",
      "No. Observations:                 187   AIC:                             1127.\n",
      "Df Residuals:                     180   BIC:                             1149.\n",
      "Df Model:                           6                                         \n",
      "Covariance Type:            nonrobust                                         \n",
      "===========================================================================================\n",
      "                              coef    std err          t      P>|t|      [0.025      0.975]\n",
      "-------------------------------------------------------------------------------------------\n",
      "Intercept                 -19.6654      9.632     -2.042      0.043     -38.672      -0.659\n",
      "gdp_per_capita           2.954e-05   2.04e-05      1.451      0.149   -1.06e-05    6.97e-05\n",
      "hdi                        20.4366     11.847      1.725      0.086      -2.941      43.814\n",
      "life_expectancy             0.1212      0.155      0.782      0.435      -0.185       0.427\n",
      "infant_mortality_rate       0.0737      0.051      1.435      0.153      -0.028       0.175\n",
      "mean_years_of_schooling    -0.7152      0.328     -2.180      0.031      -1.363      -0.068\n",
      "median_age                  0.0121      0.087      0.138      0.890      -0.160       0.184\n",
      "==============================================================================\n",
      "Omnibus:                      179.937   Durbin-Watson:                   2.356\n",
      "Prob(Omnibus):                  0.000   Jarque-Bera (JB):             6784.109\n",
      "Skew:                          -3.353   Prob(JB):                         0.00\n",
      "Kurtosis:                      31.735   Cond. No.                     1.05e+06\n",
      "==============================================================================\n",
      "\n",
      "Notes:\n",
      "[1] Standard Errors assume that the covariance matrix of the errors is correctly specified.\n",
      "[2] The condition number is large, 1.05e+06. This might indicate that there are\n",
      "strong multicollinearity or other numerical problems.\n"
     ]
    }
   ],
   "source": [
    "# Nehme alle unabhängigen Variablen ins Modell auf\n",
    "\n",
    "regression_model = 'net_migration_rate ~ gdp_per_capita + hdi + life_expectancy + infant_mortality_rate + mean_years_of_schooling + median_age'\n",
    "regression = ols(regression_model, df).fit()\n",
    "print(regression.summary())"
   ]
  },
  {
   "cell_type": "code",
   "execution_count": 26,
   "metadata": {},
   "outputs": [
    {
     "data": {
      "text/plain": [
       "np.float64(4.830098000670123)"
      ]
     },
     "execution_count": 26,
     "metadata": {},
     "output_type": "execute_result"
    }
   ],
   "source": [
    "# Berechnung des Standardfehlers\n",
    "\n",
    "np.sqrt(regression.scale)\n",
    "# Interpretation:\n",
    "# Unser Modell verschätzt sich bezüglich der Nettomigrationsrate um durchschnittlich 4,83"
   ]
  },
  {
   "cell_type": "code",
   "execution_count": 27,
   "metadata": {},
   "outputs": [
    {
     "data": {
      "text/plain": [
       "np.float64(-851.0642544592404)"
      ]
     },
     "execution_count": 27,
     "metadata": {},
     "output_type": "execute_result"
    }
   ],
   "source": [
    "# Berechnung des Standardfehlers im Verhältnis zur durchschn. Net Migration Rate\n",
    "np.sqrt(regression.scale) / df[\"net_migration_rate\"].mean()*100\n",
    "\n",
    "# Interpretation:\n",
    "# Unser Modell verschätzt sich bezüglich der Net Migration Rate um durchschnittlich -851,06%"
   ]
  },
  {
   "cell_type": "markdown",
   "metadata": {},
   "source": [
    "## Prüfung der Modellprämissen"
   ]
  },
  {
   "cell_type": "markdown",
   "metadata": {},
   "source": [
    "### 1. Annahme: Linearität in den Parametern"
   ]
  },
  {
   "cell_type": "code",
   "execution_count": 28,
   "metadata": {},
   "outputs": [
    {
     "data": {
      "text/plain": [
       "<Axes: xlabel='gdp_per_capita', ylabel='net_migration_rate'>"
      ]
     },
     "execution_count": 28,
     "metadata": {},
     "output_type": "execute_result"
    },
    {
     "data": {
      "image/png": "[encoded data removed]",
      "text/plain": [
       "<Figure size 640x480 with 1 Axes>"
      ]
     },
     "metadata": {},
     "output_type": "display_data"
    }
   ],
   "source": [
    "sns.regplot(data=df, x='gdp_per_capita', y='net_migration_rate', lowess=True)"
   ]
  },
  {
   "cell_type": "markdown",
   "metadata": {},
   "source": [
    "### 2. Annahme: Regressionsmodell ist vollständig"
   ]
  },
  {
   "cell_type": "code",
   "execution_count": 29,
   "metadata": {},
   "outputs": [
    {
     "data": {
      "text/html": [
       "<div>\n",
       "<style scoped>\n",
       "    .dataframe tbody tr th:only-of-type {\n",
       "        vertical-align: middle;\n",
       "    }\n",
       "\n",
       "    .dataframe tbody tr th {\n",
       "        vertical-align: top;\n",
       "    }\n",
       "\n",
       "    .dataframe thead th {\n",
       "        text-align: right;\n",
       "    }\n",
       "</style>\n",
       "<table border=\"1\" class=\"dataframe\">\n",
       "  <thead>\n",
       "    <tr style=\"text-align: right;\">\n",
       "      <th></th>\n",
       "      <th>gdp_per_capita</th>\n",
       "      <th>net_migration_rate</th>\n",
       "      <th>hdi</th>\n",
       "      <th>life_expectancy</th>\n",
       "      <th>infant_mortality_rate</th>\n",
       "      <th>mean_years_of_schooling</th>\n",
       "      <th>median_age</th>\n",
       "      <th>residuals</th>\n",
       "    </tr>\n",
       "  </thead>\n",
       "  <tbody>\n",
       "    <tr>\n",
       "      <th>gdp_per_capita</th>\n",
       "      <td>1.000000e+00</td>\n",
       "      <td>0.265088</td>\n",
       "      <td>6.691146e-01</td>\n",
       "      <td>6.198147e-01</td>\n",
       "      <td>-4.437295e-01</td>\n",
       "      <td>5.612626e-01</td>\n",
       "      <td>6.028835e-01</td>\n",
       "      <td>8.791799e-14</td>\n",
       "    </tr>\n",
       "    <tr>\n",
       "      <th>net_migration_rate</th>\n",
       "      <td>2.650875e-01</td>\n",
       "      <td>1.000000</td>\n",
       "      <td>2.514773e-01</td>\n",
       "      <td>2.927022e-01</td>\n",
       "      <td>-1.108593e-01</td>\n",
       "      <td>1.340805e-01</td>\n",
       "      <td>2.097552e-01</td>\n",
       "      <td>9.220078e-01</td>\n",
       "    </tr>\n",
       "    <tr>\n",
       "      <th>hdi</th>\n",
       "      <td>6.691146e-01</td>\n",
       "      <td>0.251477</td>\n",
       "      <td>1.000000e+00</td>\n",
       "      <td>9.055605e-01</td>\n",
       "      <td>-8.691450e-01</td>\n",
       "      <td>9.118749e-01</td>\n",
       "      <td>8.959302e-01</td>\n",
       "      <td>5.438285e-14</td>\n",
       "    </tr>\n",
       "    <tr>\n",
       "      <th>life_expectancy</th>\n",
       "      <td>6.198147e-01</td>\n",
       "      <td>0.292702</td>\n",
       "      <td>9.055605e-01</td>\n",
       "      <td>1.000000e+00</td>\n",
       "      <td>-8.804849e-01</td>\n",
       "      <td>7.346684e-01</td>\n",
       "      <td>8.424622e-01</td>\n",
       "      <td>6.348036e-14</td>\n",
       "    </tr>\n",
       "    <tr>\n",
       "      <th>infant_mortality_rate</th>\n",
       "      <td>-4.437295e-01</td>\n",
       "      <td>-0.110859</td>\n",
       "      <td>-8.691450e-01</td>\n",
       "      <td>-8.804849e-01</td>\n",
       "      <td>1.000000e+00</td>\n",
       "      <td>-7.808767e-01</td>\n",
       "      <td>-7.974435e-01</td>\n",
       "      <td>-4.440608e-14</td>\n",
       "    </tr>\n",
       "    <tr>\n",
       "      <th>mean_years_of_schooling</th>\n",
       "      <td>5.612626e-01</td>\n",
       "      <td>0.134081</td>\n",
       "      <td>9.118749e-01</td>\n",
       "      <td>7.346684e-01</td>\n",
       "      <td>-7.808767e-01</td>\n",
       "      <td>1.000000e+00</td>\n",
       "      <td>8.058046e-01</td>\n",
       "      <td>3.362311e-14</td>\n",
       "    </tr>\n",
       "    <tr>\n",
       "      <th>median_age</th>\n",
       "      <td>6.028835e-01</td>\n",
       "      <td>0.209755</td>\n",
       "      <td>8.959302e-01</td>\n",
       "      <td>8.424622e-01</td>\n",
       "      <td>-7.974435e-01</td>\n",
       "      <td>8.058046e-01</td>\n",
       "      <td>1.000000e+00</td>\n",
       "      <td>5.661080e-14</td>\n",
       "    </tr>\n",
       "    <tr>\n",
       "      <th>residuals</th>\n",
       "      <td>8.791799e-14</td>\n",
       "      <td>0.922008</td>\n",
       "      <td>5.438285e-14</td>\n",
       "      <td>6.348036e-14</td>\n",
       "      <td>-4.440608e-14</td>\n",
       "      <td>3.362311e-14</td>\n",
       "      <td>5.661080e-14</td>\n",
       "      <td>1.000000e+00</td>\n",
       "    </tr>\n",
       "  </tbody>\n",
       "</table>\n",
       "</div>"
      ],
      "text/plain": [
       "                         gdp_per_capita  net_migration_rate           hdi  \\\n",
       "gdp_per_capita             1.000000e+00            0.265088  6.691146e-01   \n",
       "net_migration_rate         2.650875e-01            1.000000  2.514773e-01   \n",
       "hdi                        6.691146e-01            0.251477  1.000000e+00   \n",
       "life_expectancy            6.198147e-01            0.292702  9.055605e-01   \n",
       "infant_mortality_rate     -4.437295e-01           -0.110859 -8.691450e-01   \n",
       "mean_years_of_schooling    5.612626e-01            0.134081  9.118749e-01   \n",
       "median_age                 6.028835e-01            0.209755  8.959302e-01   \n",
       "residuals                  8.791799e-14            0.922008  5.438285e-14   \n",
       "\n",
       "                         life_expectancy  infant_mortality_rate  \\\n",
       "gdp_per_capita              6.198147e-01          -4.437295e-01   \n",
       "net_migration_rate          2.927022e-01          -1.108593e-01   \n",
       "hdi                         9.055605e-01          -8.691450e-01   \n",
       "life_expectancy             1.000000e+00          -8.804849e-01   \n",
       "infant_mortality_rate      -8.804849e-01           1.000000e+00   \n",
       "mean_years_of_schooling     7.346684e-01          -7.808767e-01   \n",
       "median_age                  8.424622e-01          -7.974435e-01   \n",
       "residuals                   6.348036e-14          -4.440608e-14   \n",
       "\n",
       "                         mean_years_of_schooling    median_age     residuals  \n",
       "gdp_per_capita                      5.612626e-01  6.028835e-01  8.791799e-14  \n",
       "net_migration_rate                  1.340805e-01  2.097552e-01  9.220078e-01  \n",
       "hdi                                 9.118749e-01  8.959302e-01  5.438285e-14  \n",
       "life_expectancy                     7.346684e-01  8.424622e-01  6.348036e-14  \n",
       "infant_mortality_rate              -7.808767e-01 -7.974435e-01 -4.440608e-14  \n",
       "mean_years_of_schooling             1.000000e+00  8.058046e-01  3.362311e-14  \n",
       "median_age                          8.058046e-01  1.000000e+00  5.661080e-14  \n",
       "residuals                           3.362311e-14  5.661080e-14  1.000000e+00  "
      ]
     },
     "execution_count": 29,
     "metadata": {},
     "output_type": "execute_result"
    }
   ],
   "source": [
    "df_tmp = df\n",
    "df_tmp.drop(['country'], axis=1, inplace=True)\n",
    "df_tmp.drop(['gdp_per_capita_Quartile'], axis=1, inplace=True)\n",
    "df_tmp.drop(['net_migration_rate signed'], axis=1, inplace=True)\n",
    "\n",
    "df_tmp['residuals'] = df_tmp[\"net_migration_rate\"] - regression.fittedvalues\n",
    "df_tmp.corr()"
   ]
  },
  {
   "cell_type": "markdown",
   "metadata": {},
   "source": [
    "### 3. Annahme: Homoskedastizität der Störgröße¶"
   ]
  },
  {
   "cell_type": "code",
   "execution_count": 30,
   "metadata": {},
   "outputs": [
    {
     "name": "stdout",
     "output_type": "stream",
     "text": [
      "{'Test Statistic': np.float64(42.2916806046843), 'Test Statistic p-value': np.float64(0.030799371928699255), 'F-Statistic': np.float64(1.7210552167702466), 'F-Test p-value': np.float64(0.02139201779252039)}\n"
     ]
    }
   ],
   "source": [
    "from statsmodels.stats.diagnostic import het_white\n",
    "\n",
    "white_test = het_white(regression.resid,  regression.model.exog)\n",
    "labels = ['Test Statistic', 'Test Statistic p-value', 'F-Statistic', 'F-Test p-value']\n",
    "print(dict(zip(labels, white_test)))\n",
    "\n",
    "# Ergebnis:\n",
    "# P-Wert bei 3,07% (<5%), d.h. es liegt Homoskedastizität vor."
   ]
  },
  {
   "cell_type": "markdown",
   "metadata": {},
   "source": [
    "## 4. Annahme: Unabhängigkeit der Störgrößen (keine Autokorrelation)\n",
    "siehe OLS Regression Results, Durbin-Watson-Test"
   ]
  },
  {
   "cell_type": "markdown",
   "metadata": {},
   "source": [
    "## 5. Annahme: Keine lineare Abhängigkeit zwischen den unabhängigen Variablen\n",
    "bereits überprüft, siehe Korrelationsmatrix und VIF-Faktor"
   ]
  },
  {
   "cell_type": "markdown",
   "metadata": {},
   "source": [
    "## 6. Annahme: Normalverteilung der Störgröße\n",
    "siehe OLS Regression Results, Jarque-Beta-Test"
   ]
  }
 ],
 "metadata": {
  "kaggle": {
   "accelerator": "none",
   "dataSources": [
    {
     "datasetId": 4327931,
     "sourceId": 7436345,
     "sourceType": "datasetVersion"
    }
   ],
   "dockerImageVersionId": 30635,
   "isGpuEnabled": false,
   "isInternetEnabled": true,
   "language": "python",
   "sourceType": "notebook"
  },
  "kernelspec": {
   "display_name": "Python 3 (ipykernel)",
   "language": "python",
   "name": "python3"
  },
  "language_info": {
   "codemirror_mode": {
    "name": "ipython",
    "version": 3
   },
   "file_extension": ".py",
   "mimetype": "text/x-python",
   "name": "python",
   "nbconvert_exporter": "python",
   "pygments_lexer": "ipython3",
   "version": "3.13.5"
  }
 },
 "nbformat": 4,
 "nbformat_minor": 4
}
